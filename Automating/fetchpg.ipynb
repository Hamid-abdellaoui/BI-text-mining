{
 "cells": [
  {
   "cell_type": "code",
   "execution_count": 23,
   "metadata": {},
   "outputs": [],
   "source": [
    "import pandas as pd"
   ]
  },
  {
   "cell_type": "code",
   "execution_count": 34,
   "metadata": {},
   "outputs": [
    {
     "data": {
      "text/plain": [
       "('doc_num',\n",
       " 'de,et,la,le,des',\n",
       " 'de,rapport,hausse,période,2022',\n",
       " 'pas,est,il,ne,pour',\n",
       " 'milliards,de,trimestre,crédits,fin',\n",
       " 'économie,banque,développement,de,la')"
      ]
     },
     "execution_count": 34,
     "metadata": {},
     "output_type": "execute_result"
    }
   ],
   "source": [
    "df = pd.read_csv('airflow/data/Dataset/data.csv')\n",
    "topics = pd.read_csv('airflow/data/Outputs/topics.csv')\n",
    "trends = pd.read_csv('airflow/data/Outputs/trends.csv')\n",
    "topics_columns = topics.columns.tolist()\n",
    "trends_columns = trends.columns.tolist()\n",
    "# print(topics_columns)\n",
    "tuple(topics_columns)"
   ]
  },
  {
   "cell_type": "code",
   "execution_count": 11,
   "metadata": {},
   "outputs": [],
   "source": [
    "import psycopg2 as pg2\n",
    "\n",
    "# Connect to database\n",
    "conn = pg2.connect(host='localhost', database='optionsdata', user='openoptions', password='openoptions', port='5432')"
   ]
  },
  {
   "cell_type": "code",
   "execution_count": 12,
   "metadata": {},
   "outputs": [
    {
     "data": {
      "text/plain": [
       "1"
      ]
     },
     "execution_count": 12,
     "metadata": {},
     "output_type": "execute_result"
    }
   ],
   "source": [
    "conn.status"
   ]
  },
  {
   "cell_type": "code",
   "execution_count": 13,
   "metadata": {},
   "outputs": [],
   "source": [
    "s = \"\"\n",
    "s += \"SELECT\"\n",
    "s += \" table_schema\"\n",
    "s += \", table_name\"\n",
    "s += \" FROM information_schema.tables\"\n",
    "s += \" WHERE\"\n",
    "s += \" (\"\n",
    "s += \" table_schema = 'public'\"\n",
    "s += \" )\"\n",
    "s += \" ORDER BY table_schema, table_name;\""
   ]
  },
  {
   "cell_type": "code",
   "execution_count": 14,
   "metadata": {},
   "outputs": [
    {
     "name": "stdout",
     "output_type": "stream",
     "text": [
      "('public', 'articles')\n",
      "('public', 'fb')\n",
      "('public', 'goog')\n"
     ]
    }
   ],
   "source": [
    "db_cursor = conn.cursor()\n",
    "db_cursor.execute(s)\n",
    "list_tables = db_cursor.fetchall()\n",
    "\n",
    "for t_name_table in list_tables:\n",
    "    print(t_name_table)"
   ]
  },
  {
   "cell_type": "code",
   "execution_count": 19,
   "metadata": {},
   "outputs": [],
   "source": [
    "# query database\n",
    "query = 'SELECT * FROM articles;'"
   ]
  },
  {
   "cell_type": "code",
   "execution_count": 20,
   "metadata": {},
   "outputs": [
    {
     "name": "stdout",
     "output_type": "stream",
     "text": [
      "<class 'list'>\n"
     ]
    }
   ],
   "source": [
    "cur = conn.cursor()\n",
    "cur.execute(query)\n",
    "\n",
    "ha = cur.fetchall()\n",
    "print(type(ha))"
   ]
  },
  {
   "cell_type": "code",
   "execution_count": 21,
   "metadata": {},
   "outputs": [],
   "source": [
    "import pandas as pd\n",
    "df = pd.DataFrame(ha)"
   ]
  },
  {
   "cell_type": "code",
   "execution_count": 22,
   "metadata": {},
   "outputs": [
    {
     "data": {
      "text/html": [
       "<div>\n",
       "<style scoped>\n",
       "    .dataframe tbody tr th:only-of-type {\n",
       "        vertical-align: middle;\n",
       "    }\n",
       "\n",
       "    .dataframe tbody tr th {\n",
       "        vertical-align: top;\n",
       "    }\n",
       "\n",
       "    .dataframe thead th {\n",
       "        text-align: right;\n",
       "    }\n",
       "</style>\n",
       "<table border=\"1\" class=\"dataframe\">\n",
       "  <thead>\n",
       "    <tr style=\"text-align: right;\">\n",
       "      <th></th>\n",
       "      <th>0</th>\n",
       "      <th>1</th>\n",
       "      <th>2</th>\n",
       "      <th>3</th>\n",
       "      <th>4</th>\n",
       "    </tr>\n",
       "  </thead>\n",
       "  <tbody>\n",
       "    <tr>\n",
       "      <th>0</th>\n",
       "      <td>Pêche. Hausse des débarquements de 14% à fin m...</td>\n",
       "      <td>Les débarquements des produits commercialisés ...</td>\n",
       "      <td>2022-06-14</td>\n",
       "      <td>https://www.challenge.ma/peche-hausse-des-deba...</td>\n",
       "      <td>https://www.challenge.ma/wp-content/uploads/20...</td>\n",
       "    </tr>\n",
       "    <tr>\n",
       "      <th>1</th>\n",
       "      <td>Trésorerie. Le déficit budgétaire à 14,6 MMDH ...</td>\n",
       "      <td>La situation des charges et ressources du Trés...</td>\n",
       "      <td>2022-06-13</td>\n",
       "      <td>https://www.challenge.ma/tresorerie-le-deficit...</td>\n",
       "      <td>https://www.challenge.ma/wp-content/uploads/20...</td>\n",
       "    </tr>\n",
       "    <tr>\n",
       "      <th>2</th>\n",
       "      <td>Ouverture à Rabat de la réunion de haut niveau...</td>\n",
       "      <td>Les travaux de la réunion de haut niveau du co...</td>\n",
       "      <td>2022-06-13</td>\n",
       "      <td>https://www.challenge.ma/ouverture-a-rabat-de-...</td>\n",
       "      <td>https://www.challenge.ma/wp-content/uploads/20...</td>\n",
       "    </tr>\n",
       "    <tr>\n",
       "      <th>3</th>\n",
       "      <td>Maroc/Emirats Arabes Unis. Signature d’un MoU ...</td>\n",
       "      <td>La Confédération générale des entreprises du M...</td>\n",
       "      <td>2022-06-09</td>\n",
       "      <td>https://www.challenge.ma/maroc-emirats-arabes-...</td>\n",
       "      <td>https://www.challenge.ma/wp-content/uploads/20...</td>\n",
       "    </tr>\n",
       "    <tr>\n",
       "      <th>4</th>\n",
       "      <td>Prêts bancaires. Plus de 900 milliards de DH s...</td>\n",
       "      <td>Selon Bank Al-Maghrib, l’encours du crédit ban...</td>\n",
       "      <td>2022-06-03</td>\n",
       "      <td>https://www.challenge.ma/banques-les-prets-acc...</td>\n",
       "      <td>https://www.challenge.ma/wp-content/uploads/20...</td>\n",
       "    </tr>\n",
       "  </tbody>\n",
       "</table>\n",
       "</div>"
      ],
      "text/plain": [
       "                                                   0  \\\n",
       "0  Pêche. Hausse des débarquements de 14% à fin m...   \n",
       "1  Trésorerie. Le déficit budgétaire à 14,6 MMDH ...   \n",
       "2  Ouverture à Rabat de la réunion de haut niveau...   \n",
       "3  Maroc/Emirats Arabes Unis. Signature d’un MoU ...   \n",
       "4  Prêts bancaires. Plus de 900 milliards de DH s...   \n",
       "\n",
       "                                                   1           2  \\\n",
       "0  Les débarquements des produits commercialisés ...  2022-06-14   \n",
       "1  La situation des charges et ressources du Trés...  2022-06-13   \n",
       "2  Les travaux de la réunion de haut niveau du co...  2022-06-13   \n",
       "3  La Confédération générale des entreprises du M...  2022-06-09   \n",
       "4  Selon Bank Al-Maghrib, l’encours du crédit ban...  2022-06-03   \n",
       "\n",
       "                                                   3  \\\n",
       "0  https://www.challenge.ma/peche-hausse-des-deba...   \n",
       "1  https://www.challenge.ma/tresorerie-le-deficit...   \n",
       "2  https://www.challenge.ma/ouverture-a-rabat-de-...   \n",
       "3  https://www.challenge.ma/maroc-emirats-arabes-...   \n",
       "4  https://www.challenge.ma/banques-les-prets-acc...   \n",
       "\n",
       "                                                   4  \n",
       "0  https://www.challenge.ma/wp-content/uploads/20...  \n",
       "1  https://www.challenge.ma/wp-content/uploads/20...  \n",
       "2  https://www.challenge.ma/wp-content/uploads/20...  \n",
       "3  https://www.challenge.ma/wp-content/uploads/20...  \n",
       "4  https://www.challenge.ma/wp-content/uploads/20...  "
      ]
     },
     "execution_count": 22,
     "metadata": {},
     "output_type": "execute_result"
    }
   ],
   "source": [
    "df.head()"
   ]
  }
 ],
 "metadata": {
  "kernelspec": {
   "display_name": "Python 3.8.8 64-bit (system)",
   "language": "python",
   "name": "python3"
  },
  "language_info": {
   "codemirror_mode": {
    "name": "ipython",
    "version": 3
   },
   "file_extension": ".py",
   "mimetype": "text/x-python",
   "name": "python",
   "nbconvert_exporter": "python",
   "pygments_lexer": "ipython3",
   "version": "3.8.8"
  },
  "orig_nbformat": 4,
  "vscode": {
   "interpreter": {
    "hash": "19084cb2a221719542bd94e588e69917ee95725b301fa5f2df470f319dde6836"
   }
  }
 },
 "nbformat": 4,
 "nbformat_minor": 2
}
