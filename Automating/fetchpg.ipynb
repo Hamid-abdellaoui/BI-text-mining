{
 "cells": [
  {
   "cell_type": "code",
   "execution_count": 2,
   "metadata": {},
   "outputs": [],
   "source": [
    "import pandas as pd"
   ]
  },
  {
   "cell_type": "code",
   "execution_count": 133,
   "metadata": {},
   "outputs": [],
   "source": [
    "# dataset\n",
    "dataset = pd.read_csv('airflow/data/Dataset/data.csv', parse_dates=['date'])\n",
    "dataset['period']=dataset['date'].dt.to_period('M')\n",
    "dataset.sort_values(by=\"date\" ,inplace=True)\n",
    "one_month = list(set(dataset[\"period\"]))[1]\n",
    "dataset = dataset[dataset[\"period\"]== one_month].transpose()\n",
    "dataset.columns=[ i for i in range(1,len(dataset.columns)+1)]\n",
    "df = dataset.transpose()\n",
    "\n",
    "# topics indexing\n",
    "topics = pd.read_csv('airflow/data/Outputs/topics.csv', index_col='doc_num')\n",
    "topics_columns = []\n",
    "i=0\n",
    "for topic in topics.columns:\n",
    "    topics_columns.append(['topic_' + str(i) , topic])\n",
    "    i=i+1\n",
    "topics_columns=pd.DataFrame(topics_columns,columns=['index','topic'])\n",
    "topics.columns = topics_columns['index']\n",
    "\n",
    "# appriori indexing\n",
    "appriori = pd.read_csv('airflow/data/Outputs/appriori.csv')\n",
    "appriori_columns = []\n",
    "i=0\n",
    "for topic in appriori.columns:\n",
    "    appriori_columns.append(['bigramm_' + str(i) , topic])\n",
    "    i = i + 1\n",
    "appriori_columns = pd.DataFrame(appriori_columns,columns=['index','topic'])\n",
    "appriori.columns = appriori_columns['index']\n",
    "\n",
    "# indexing trends\n",
    "trends = pd.read_csv('airflow/data/Outputs/trends.csv')\n",
    "trends.fillna(0, inplace=True)\n",
    "trends_columns = []\n",
    "i=0\n",
    "for topic in trends.columns:\n",
    "    trends_columns.append(['trend_' + str(i) , topic])\n",
    "    i = i + 1\n",
    "trends_columns = pd.DataFrame(trends_columns,columns=['index','topic'])\n",
    "trends.columns = trends_columns['index']"
   ]
  },
  {
   "cell_type": "code",
   "execution_count": 134,
   "metadata": {},
   "outputs": [
    {
     "data": {
      "text/html": [
       "<div>\n",
       "<style scoped>\n",
       "    .dataframe tbody tr th:only-of-type {\n",
       "        vertical-align: middle;\n",
       "    }\n",
       "\n",
       "    .dataframe tbody tr th {\n",
       "        vertical-align: top;\n",
       "    }\n",
       "\n",
       "    .dataframe thead th {\n",
       "        text-align: right;\n",
       "    }\n",
       "</style>\n",
       "<table border=\"1\" class=\"dataframe\">\n",
       "  <thead>\n",
       "    <tr style=\"text-align: right;\">\n",
       "      <th>index</th>\n",
       "      <th>trend_0</th>\n",
       "      <th>trend_1</th>\n",
       "      <th>trend_2</th>\n",
       "      <th>trend_3</th>\n",
       "      <th>trend_4</th>\n",
       "    </tr>\n",
       "  </thead>\n",
       "  <tbody>\n",
       "    <tr>\n",
       "      <th>0</th>\n",
       "      <td>0.0</td>\n",
       "      <td>0.0</td>\n",
       "      <td>0.0</td>\n",
       "      <td>0.0</td>\n",
       "      <td>0.0</td>\n",
       "    </tr>\n",
       "    <tr>\n",
       "      <th>1</th>\n",
       "      <td>0.0</td>\n",
       "      <td>0.0</td>\n",
       "      <td>0.0</td>\n",
       "      <td>0.0</td>\n",
       "      <td>0.0</td>\n",
       "    </tr>\n",
       "  </tbody>\n",
       "</table>\n",
       "</div>"
      ],
      "text/plain": [
       "index  trend_0  trend_1  trend_2  trend_3  trend_4\n",
       "0          0.0      0.0      0.0      0.0      0.0\n",
       "1          0.0      0.0      0.0      0.0      0.0"
      ]
     },
     "execution_count": 134,
     "metadata": {},
     "output_type": "execute_result"
    }
   ],
   "source": [
    "trends.head(2)"
   ]
  },
  {
   "cell_type": "code",
   "execution_count": 138,
   "metadata": {},
   "outputs": [
    {
     "data": {
      "text/plain": [
       "index\n",
       "topic_0    0.026187\n",
       "topic_1    0.000000\n",
       "topic_2    0.258143\n",
       "topic_3    0.035583\n",
       "topic_4    0.010990\n",
       "topic_5    0.000000\n",
       "topic_6    0.004084\n",
       "topic_7    0.002550\n",
       "topic_8    0.000000\n",
       "topic_9    0.000000\n",
       "Name: 3, dtype: float64"
      ]
     },
     "execution_count": 138,
     "metadata": {},
     "output_type": "execute_result"
    }
   ],
   "source": [
    "(topics.iloc[3])"
   ]
  },
  {
   "cell_type": "code",
   "execution_count": 136,
   "metadata": {},
   "outputs": [
    {
     "data": {
      "text/html": [
       "<div>\n",
       "<style scoped>\n",
       "    .dataframe tbody tr th:only-of-type {\n",
       "        vertical-align: middle;\n",
       "    }\n",
       "\n",
       "    .dataframe tbody tr th {\n",
       "        vertical-align: top;\n",
       "    }\n",
       "\n",
       "    .dataframe thead th {\n",
       "        text-align: right;\n",
       "    }\n",
       "</style>\n",
       "<table border=\"1\" class=\"dataframe\">\n",
       "  <thead>\n",
       "    <tr style=\"text-align: right;\">\n",
       "      <th>index</th>\n",
       "      <th>bigramm_0</th>\n",
       "      <th>bigramm_1</th>\n",
       "      <th>bigramm_2</th>\n",
       "      <th>bigramm_3</th>\n",
       "      <th>bigramm_4</th>\n",
       "      <th>bigramm_5</th>\n",
       "      <th>bigramm_6</th>\n",
       "      <th>bigramm_7</th>\n",
       "      <th>bigramm_8</th>\n",
       "      <th>bigramm_9</th>\n",
       "      <th>...</th>\n",
       "      <th>bigramm_40894</th>\n",
       "      <th>bigramm_40895</th>\n",
       "      <th>bigramm_40896</th>\n",
       "      <th>bigramm_40897</th>\n",
       "      <th>bigramm_40898</th>\n",
       "      <th>bigramm_40899</th>\n",
       "      <th>bigramm_40900</th>\n",
       "      <th>bigramm_40901</th>\n",
       "      <th>bigramm_40902</th>\n",
       "      <th>bigramm_40903</th>\n",
       "    </tr>\n",
       "  </thead>\n",
       "  <tbody>\n",
       "    <tr>\n",
       "      <th>0</th>\n",
       "      <td>1</td>\n",
       "      <td>1</td>\n",
       "      <td>1</td>\n",
       "      <td>1</td>\n",
       "      <td>1</td>\n",
       "      <td>1</td>\n",
       "      <td>1</td>\n",
       "      <td>1</td>\n",
       "      <td>1</td>\n",
       "      <td>1</td>\n",
       "      <td>...</td>\n",
       "      <td>0</td>\n",
       "      <td>0</td>\n",
       "      <td>0</td>\n",
       "      <td>0</td>\n",
       "      <td>0</td>\n",
       "      <td>0</td>\n",
       "      <td>0</td>\n",
       "      <td>0</td>\n",
       "      <td>0</td>\n",
       "      <td>0</td>\n",
       "    </tr>\n",
       "    <tr>\n",
       "      <th>1</th>\n",
       "      <td>0</td>\n",
       "      <td>0</td>\n",
       "      <td>0</td>\n",
       "      <td>0</td>\n",
       "      <td>0</td>\n",
       "      <td>0</td>\n",
       "      <td>0</td>\n",
       "      <td>0</td>\n",
       "      <td>0</td>\n",
       "      <td>0</td>\n",
       "      <td>...</td>\n",
       "      <td>0</td>\n",
       "      <td>0</td>\n",
       "      <td>0</td>\n",
       "      <td>0</td>\n",
       "      <td>0</td>\n",
       "      <td>0</td>\n",
       "      <td>0</td>\n",
       "      <td>0</td>\n",
       "      <td>0</td>\n",
       "      <td>0</td>\n",
       "    </tr>\n",
       "  </tbody>\n",
       "</table>\n",
       "<p>2 rows × 40904 columns</p>\n",
       "</div>"
      ],
      "text/plain": [
       "index  bigramm_0  bigramm_1  bigramm_2  bigramm_3  bigramm_4  bigramm_5  \\\n",
       "0              1          1          1          1          1          1   \n",
       "1              0          0          0          0          0          0   \n",
       "\n",
       "index  bigramm_6  bigramm_7  bigramm_8  bigramm_9  ...  bigramm_40894  \\\n",
       "0              1          1          1          1  ...              0   \n",
       "1              0          0          0          0  ...              0   \n",
       "\n",
       "index  bigramm_40895  bigramm_40896  bigramm_40897  bigramm_40898  \\\n",
       "0                  0              0              0              0   \n",
       "1                  0              0              0              0   \n",
       "\n",
       "index  bigramm_40899  bigramm_40900  bigramm_40901  bigramm_40902  \\\n",
       "0                  0              0              0              0   \n",
       "1                  0              0              0              0   \n",
       "\n",
       "index  bigramm_40903  \n",
       "0                  0  \n",
       "1                  0  \n",
       "\n",
       "[2 rows x 40904 columns]"
      ]
     },
     "execution_count": 136,
     "metadata": {},
     "output_type": "execute_result"
    }
   ],
   "source": [
    "appriori.head(2)"
   ]
  },
  {
   "cell_type": "code",
   "execution_count": 152,
   "metadata": {},
   "outputs": [],
   "source": [
    "import psycopg2 as pg2\n",
    "\n",
    "# Connect to database\n",
    "conn = pg2.connect(host='localhost', database='optionsdata', user='openoptions', password='openoptions', port='5432')"
   ]
  },
  {
   "cell_type": "code",
   "execution_count": 153,
   "metadata": {},
   "outputs": [
    {
     "data": {
      "text/plain": [
       "1"
      ]
     },
     "execution_count": 153,
     "metadata": {},
     "output_type": "execute_result"
    }
   ],
   "source": [
    "conn.status"
   ]
  },
  {
   "cell_type": "code",
   "execution_count": 154,
   "metadata": {},
   "outputs": [],
   "source": [
    "s = \"\"\n",
    "s += \"SELECT\"\n",
    "s += \" table_schema\"\n",
    "s += \", table_name\"\n",
    "s += \" FROM information_schema.tables\"\n",
    "s += \" WHERE\"\n",
    "s += \" (\"\n",
    "s += \" table_schema = 'public'\"\n",
    "s += \" )\"\n",
    "s += \" ORDER BY table_schema, table_name;\"\n"
   ]
  },
  {
   "cell_type": "code",
   "execution_count": 155,
   "metadata": {},
   "outputs": [
    {
     "name": "stdout",
     "output_type": "stream",
     "text": [
      "('public', 'articles')\n",
      "('public', 'topics')\n",
      "('public', 'topics_columns')\n",
      "('public', 'trends')\n",
      "('public', 'trends_columns')\n"
     ]
    }
   ],
   "source": [
    "db_cursor = conn.cursor()\n",
    "db_cursor.execute(s)\n",
    "list_tables = db_cursor.fetchall()\n",
    "\n",
    "for t_name_table in list_tables:\n",
    "    print(t_name_table)"
   ]
  },
  {
   "cell_type": "code",
   "execution_count": 156,
   "metadata": {},
   "outputs": [],
   "source": [
    "# query database\n",
    "query = 'SELECT * FROM articles;'"
   ]
  },
  {
   "cell_type": "code",
   "execution_count": 157,
   "metadata": {},
   "outputs": [
    {
     "name": "stdout",
     "output_type": "stream",
     "text": [
      "<class 'list'>\n"
     ]
    }
   ],
   "source": [
    "cur = conn.cursor()\n",
    "cur.execute(query)\n",
    "\n",
    "ha = cur.fetchall()\n",
    "print(type(ha))"
   ]
  },
  {
   "cell_type": "code",
   "execution_count": 21,
   "metadata": {},
   "outputs": [],
   "source": [
    "import pandas as pd\n",
    "df = pd.DataFrame(ha)"
   ]
  },
  {
   "cell_type": "code",
   "execution_count": 158,
   "metadata": {},
   "outputs": [
    {
     "data": {
      "text/html": [
       "<div>\n",
       "<style scoped>\n",
       "    .dataframe tbody tr th:only-of-type {\n",
       "        vertical-align: middle;\n",
       "    }\n",
       "\n",
       "    .dataframe tbody tr th {\n",
       "        vertical-align: top;\n",
       "    }\n",
       "\n",
       "    .dataframe thead th {\n",
       "        text-align: right;\n",
       "    }\n",
       "</style>\n",
       "<table border=\"1\" class=\"dataframe\">\n",
       "  <thead>\n",
       "    <tr style=\"text-align: right;\">\n",
       "      <th></th>\n",
       "      <th>titre</th>\n",
       "      <th>text</th>\n",
       "      <th>date</th>\n",
       "      <th>link</th>\n",
       "      <th>img</th>\n",
       "      <th>period</th>\n",
       "    </tr>\n",
       "  </thead>\n",
       "  <tbody>\n",
       "    <tr>\n",
       "      <th>1</th>\n",
       "      <td>Financement des entreprises : La banque allema...</td>\n",
       "      <td>La banque allemande DEG, filiale du groupe KFW...</td>\n",
       "      <td>2022-05-01</td>\n",
       "      <td>https://lematin.ma/express/2022/financement-en...</td>\n",
       "      <td>https://static.lematin.ma/files/lematin/images...</td>\n",
       "      <td>2022-05</td>\n",
       "    </tr>\n",
       "    <tr>\n",
       "      <th>2</th>\n",
       "      <td>Le crédit bancaire termine le premier trimestr...</td>\n",
       "      <td>Le trend haussier du crédit bancaire s’est pou...</td>\n",
       "      <td>2022-05-01</td>\n",
       "      <td>https://lematin.ma/express/2022/credit-bancair...</td>\n",
       "      <td>https://static.lematin.ma/files/lematin/images...</td>\n",
       "      <td>2022-05</td>\n",
       "    </tr>\n",
       "    <tr>\n",
       "      <th>3</th>\n",
       "      <td>Financement de l’entrepreneuriat : les solutio...</td>\n",
       "      <td>Que ce soit auprès des banques, via des progra...</td>\n",
       "      <td>2022-05-01</td>\n",
       "      <td>https://lematin.ma/express/2022/financement-le...</td>\n",
       "      <td>https://static.lematin.ma/files/lematin/images...</td>\n",
       "      <td>2022-05</td>\n",
       "    </tr>\n",
       "    <tr>\n",
       "      <th>4</th>\n",
       "      <td>Vers une chaîne d’approvisionnement agroalimen...</td>\n",
       "      <td>Les économies mondiales ont connu une déstabil...</td>\n",
       "      <td>2022-05-01</td>\n",
       "      <td>https://www.lavieeco.com/economie/vers-une-cha...</td>\n",
       "      <td>https://www.lavieeco.com/wp-content/uploads/20...</td>\n",
       "      <td>2022-05</td>\n",
       "    </tr>\n",
       "    <tr>\n",
       "      <th>5</th>\n",
       "      <td>La facture dématérialisée</td>\n",
       "      <td>La Loi de finances 2022 devrait donner un coup...</td>\n",
       "      <td>2022-05-01</td>\n",
       "      <td>https://www.lavieeco.com/economie/la-facture-d...</td>\n",
       "      <td>https://www.lavieeco.com/wp-content/uploads/20...</td>\n",
       "      <td>2022-05</td>\n",
       "    </tr>\n",
       "  </tbody>\n",
       "</table>\n",
       "</div>"
      ],
      "text/plain": [
       "                                               titre  \\\n",
       "1  Financement des entreprises : La banque allema...   \n",
       "2  Le crédit bancaire termine le premier trimestr...   \n",
       "3  Financement de l’entrepreneuriat : les solutio...   \n",
       "4  Vers une chaîne d’approvisionnement agroalimen...   \n",
       "5                          La facture dématérialisée   \n",
       "\n",
       "                                                text       date  \\\n",
       "1  La banque allemande DEG, filiale du groupe KFW... 2022-05-01   \n",
       "2  Le trend haussier du crédit bancaire s’est pou... 2022-05-01   \n",
       "3  Que ce soit auprès des banques, via des progra... 2022-05-01   \n",
       "4  Les économies mondiales ont connu une déstabil... 2022-05-01   \n",
       "5  La Loi de finances 2022 devrait donner un coup... 2022-05-01   \n",
       "\n",
       "                                                link  \\\n",
       "1  https://lematin.ma/express/2022/financement-en...   \n",
       "2  https://lematin.ma/express/2022/credit-bancair...   \n",
       "3  https://lematin.ma/express/2022/financement-le...   \n",
       "4  https://www.lavieeco.com/economie/vers-une-cha...   \n",
       "5  https://www.lavieeco.com/economie/la-facture-d...   \n",
       "\n",
       "                                                 img   period  \n",
       "1  https://static.lematin.ma/files/lematin/images...  2022-05  \n",
       "2  https://static.lematin.ma/files/lematin/images...  2022-05  \n",
       "3  https://static.lematin.ma/files/lematin/images...  2022-05  \n",
       "4  https://www.lavieeco.com/wp-content/uploads/20...  2022-05  \n",
       "5  https://www.lavieeco.com/wp-content/uploads/20...  2022-05  "
      ]
     },
     "execution_count": 158,
     "metadata": {},
     "output_type": "execute_result"
    }
   ],
   "source": [
    "df.head()"
   ]
  },
  {
   "cell_type": "code",
   "execution_count": null,
   "metadata": {},
   "outputs": [],
   "source": []
  }
 ],
 "metadata": {
  "kernelspec": {
   "display_name": "Python 3.8.8 64-bit",
   "language": "python",
   "name": "python3"
  },
  "language_info": {
   "codemirror_mode": {
    "name": "ipython",
    "version": 3
   },
   "file_extension": ".py",
   "mimetype": "text/x-python",
   "name": "python",
   "nbconvert_exporter": "python",
   "pygments_lexer": "ipython3",
   "version": "3.8.8"
  },
  "orig_nbformat": 4,
  "vscode": {
   "interpreter": {
    "hash": "892b1dbae191cb403baa4bf29e539705d2bb168fb9a756bde180b5b738f682b9"
   }
  }
 },
 "nbformat": 4,
 "nbformat_minor": 2
}
