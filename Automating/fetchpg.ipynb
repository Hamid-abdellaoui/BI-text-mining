{
 "cells": [
  {
   "cell_type": "code",
   "execution_count": 2,
   "metadata": {},
   "outputs": [
    {
     "name": "stdout",
     "output_type": "stream",
     "text": [
      "Collecting psycopg2\n",
      "  Downloading psycopg2-2.9.3-cp38-cp38-win_amd64.whl (1.1 MB)\n",
      "     ---------------------------------------- 1.1/1.1 MB 1.2 MB/s eta 0:00:00\n",
      "Installing collected packages: psycopg2\n",
      "Successfully installed psycopg2-2.9.3\n"
     ]
    }
   ],
   "source": [
    "!pip install psycopg2"
   ]
  },
  {
   "cell_type": "code",
   "execution_count": 21,
   "metadata": {},
   "outputs": [],
   "source": [
    "import psycopg2 as pg2\n",
    "\n",
    "# Connect to database\n",
    "conn = pg2.connect(host='localhost', database='optionsdata', user='openoptions', password='openoptions', port='5432')"
   ]
  },
  {
   "cell_type": "code",
   "execution_count": 23,
   "metadata": {},
   "outputs": [
    {
     "data": {
      "text/plain": [
       "1"
      ]
     },
     "execution_count": 23,
     "metadata": {},
     "output_type": "execute_result"
    }
   ],
   "source": [
    "conn.status"
   ]
  },
  {
   "cell_type": "code",
   "execution_count": 24,
   "metadata": {},
   "outputs": [],
   "source": [
    "s = \"\"\n",
    "s += \"SELECT\"\n",
    "s += \" table_schema\"\n",
    "s += \", table_name\"\n",
    "s += \" FROM information_schema.tables\"\n",
    "s += \" WHERE\"\n",
    "s += \" (\"\n",
    "s += \" table_schema = 'public'\"\n",
    "s += \" )\"\n",
    "s += \" ORDER BY table_schema, table_name;\""
   ]
  },
  {
   "cell_type": "code",
   "execution_count": 26,
   "metadata": {},
   "outputs": [
    {
     "name": "stdout",
     "output_type": "stream",
     "text": [
      "('public', 'fb')\n",
      "('public', 'goog')\n"
     ]
    }
   ],
   "source": [
    "db_cursor = conn.cursor()\n",
    "db_cursor.execute(s)\n",
    "list_tables = db_cursor.fetchall()\n",
    "\n",
    "for t_name_table in list_tables:\n",
    "    print(t_name_table)"
   ]
  },
  {
   "cell_type": "code",
   "execution_count": 36,
   "metadata": {},
   "outputs": [],
   "source": [
    "# query database\n",
    "query = 'SELECT * FROM fb;'"
   ]
  },
  {
   "cell_type": "code",
   "execution_count": 38,
   "metadata": {},
   "outputs": [
    {
     "name": "stdout",
     "output_type": "stream",
     "text": [
      "<class 'list'>\n"
     ]
    }
   ],
   "source": [
    "cur = conn.cursor()\n",
    "cur.execute(query)\n",
    "\n",
    "ha = cur.fetchall()\n",
    "print(type(ha))"
   ]
  },
  {
   "cell_type": "code",
   "execution_count": 43,
   "metadata": {},
   "outputs": [],
   "source": [
    "import pandas as pd\n",
    "df = pd.DataFrame(ha)"
   ]
  },
  {
   "cell_type": "code",
   "execution_count": 44,
   "metadata": {},
   "outputs": [
    {
     "data": {
      "text/html": [
       "<div>\n",
       "<style scoped>\n",
       "    .dataframe tbody tr th:only-of-type {\n",
       "        vertical-align: middle;\n",
       "    }\n",
       "\n",
       "    .dataframe tbody tr th {\n",
       "        vertical-align: top;\n",
       "    }\n",
       "\n",
       "    .dataframe thead th {\n",
       "        text-align: right;\n",
       "    }\n",
       "</style>\n",
       "<table border=\"1\" class=\"dataframe\">\n",
       "  <thead>\n",
       "    <tr style=\"text-align: right;\">\n",
       "      <th></th>\n",
       "      <th>0</th>\n",
       "      <th>1</th>\n",
       "      <th>2</th>\n",
       "      <th>3</th>\n",
       "      <th>4</th>\n",
       "      <th>5</th>\n",
       "      <th>6</th>\n",
       "      <th>7</th>\n",
       "      <th>8</th>\n",
       "      <th>9</th>\n",
       "      <th>...</th>\n",
       "      <th>17</th>\n",
       "      <th>18</th>\n",
       "      <th>19</th>\n",
       "      <th>20</th>\n",
       "      <th>21</th>\n",
       "      <th>22</th>\n",
       "      <th>23</th>\n",
       "      <th>24</th>\n",
       "      <th>25</th>\n",
       "      <th>26</th>\n",
       "    </tr>\n",
       "  </thead>\n",
       "  <tbody>\n",
       "    <tr>\n",
       "      <th>0</th>\n",
       "      <td>PUT</td>\n",
       "      <td>GOOG_061722P2040</td>\n",
       "      <td>GOOG Jun 17 2022 2040 Put</td>\n",
       "      <td>5.0</td>\n",
       "      <td>6.5</td>\n",
       "      <td>5.00</td>\n",
       "      <td>22</td>\n",
       "      <td>7</td>\n",
       "      <td>0</td>\n",
       "      <td>7.10</td>\n",
       "      <td>...</td>\n",
       "      <td>0.001</td>\n",
       "      <td>-1.464</td>\n",
       "      <td>0.497</td>\n",
       "      <td>-0.040</td>\n",
       "      <td>72</td>\n",
       "      <td>5.00</td>\n",
       "      <td>5.779</td>\n",
       "      <td>2040.0</td>\n",
       "      <td>1655496000000</td>\n",
       "      <td>5</td>\n",
       "    </tr>\n",
       "    <tr>\n",
       "      <th>1</th>\n",
       "      <td>PUT</td>\n",
       "      <td>GOOG_061722P2050</td>\n",
       "      <td>GOOG Jun 17 2022 2050 Put</td>\n",
       "      <td>5.7</td>\n",
       "      <td>7.2</td>\n",
       "      <td>6.10</td>\n",
       "      <td>23</td>\n",
       "      <td>5</td>\n",
       "      <td>0</td>\n",
       "      <td>8.10</td>\n",
       "      <td>...</td>\n",
       "      <td>0.001</td>\n",
       "      <td>-1.549</td>\n",
       "      <td>0.535</td>\n",
       "      <td>-0.045</td>\n",
       "      <td>302</td>\n",
       "      <td>6.10</td>\n",
       "      <td>6.395</td>\n",
       "      <td>2050.0</td>\n",
       "      <td>1655496000000</td>\n",
       "      <td>5</td>\n",
       "    </tr>\n",
       "    <tr>\n",
       "      <th>2</th>\n",
       "      <td>PUT</td>\n",
       "      <td>GOOG_061722P2060</td>\n",
       "      <td>GOOG Jun 17 2022 2060 Put</td>\n",
       "      <td>6.5</td>\n",
       "      <td>7.5</td>\n",
       "      <td>6.63</td>\n",
       "      <td>22</td>\n",
       "      <td>9</td>\n",
       "      <td>0</td>\n",
       "      <td>9.22</td>\n",
       "      <td>...</td>\n",
       "      <td>0.001</td>\n",
       "      <td>-1.626</td>\n",
       "      <td>0.573</td>\n",
       "      <td>-0.049</td>\n",
       "      <td>57</td>\n",
       "      <td>6.63</td>\n",
       "      <td>7.011</td>\n",
       "      <td>2060.0</td>\n",
       "      <td>1655496000000</td>\n",
       "      <td>5</td>\n",
       "    </tr>\n",
       "    <tr>\n",
       "      <th>3</th>\n",
       "      <td>PUT</td>\n",
       "      <td>GOOG_061722P2070</td>\n",
       "      <td>GOOG Jun 17 2022 2070 Put</td>\n",
       "      <td>7.4</td>\n",
       "      <td>8.4</td>\n",
       "      <td>6.80</td>\n",
       "      <td>23</td>\n",
       "      <td>12</td>\n",
       "      <td>0</td>\n",
       "      <td>10.27</td>\n",
       "      <td>...</td>\n",
       "      <td>0.001</td>\n",
       "      <td>-1.749</td>\n",
       "      <td>0.622</td>\n",
       "      <td>-0.055</td>\n",
       "      <td>57</td>\n",
       "      <td>6.80</td>\n",
       "      <td>7.976</td>\n",
       "      <td>2070.0</td>\n",
       "      <td>1655496000000</td>\n",
       "      <td>5</td>\n",
       "    </tr>\n",
       "    <tr>\n",
       "      <th>4</th>\n",
       "      <td>PUT</td>\n",
       "      <td>GOOG_061722P2080</td>\n",
       "      <td>GOOG Jun 17 2022 2080 Put</td>\n",
       "      <td>8.4</td>\n",
       "      <td>10.0</td>\n",
       "      <td>8.90</td>\n",
       "      <td>13</td>\n",
       "      <td>3</td>\n",
       "      <td>0</td>\n",
       "      <td>11.13</td>\n",
       "      <td>...</td>\n",
       "      <td>0.001</td>\n",
       "      <td>-1.874</td>\n",
       "      <td>0.673</td>\n",
       "      <td>-0.061</td>\n",
       "      <td>83</td>\n",
       "      <td>8.90</td>\n",
       "      <td>9.054</td>\n",
       "      <td>2080.0</td>\n",
       "      <td>1655496000000</td>\n",
       "      <td>5</td>\n",
       "    </tr>\n",
       "  </tbody>\n",
       "</table>\n",
       "<p>5 rows × 27 columns</p>\n",
       "</div>"
      ],
      "text/plain": [
       "    0                 1                          2    3     4     5   6   7   \\\n",
       "0  PUT  GOOG_061722P2040  GOOG Jun 17 2022 2040 Put  5.0   6.5  5.00  22   7   \n",
       "1  PUT  GOOG_061722P2050  GOOG Jun 17 2022 2050 Put  5.7   7.2  6.10  23   5   \n",
       "2  PUT  GOOG_061722P2060  GOOG Jun 17 2022 2060 Put  6.5   7.5  6.63  22   9   \n",
       "3  PUT  GOOG_061722P2070  GOOG Jun 17 2022 2070 Put  7.4   8.4  6.80  23  12   \n",
       "4  PUT  GOOG_061722P2080  GOOG Jun 17 2022 2080 Put  8.4  10.0  8.90  13   3   \n",
       "\n",
       "   8      9   ...     17     18     19     20   21    22     23      24  \\\n",
       "0   0   7.10  ...  0.001 -1.464  0.497 -0.040   72  5.00  5.779  2040.0   \n",
       "1   0   8.10  ...  0.001 -1.549  0.535 -0.045  302  6.10  6.395  2050.0   \n",
       "2   0   9.22  ...  0.001 -1.626  0.573 -0.049   57  6.63  7.011  2060.0   \n",
       "3   0  10.27  ...  0.001 -1.749  0.622 -0.055   57  6.80  7.976  2070.0   \n",
       "4   0  11.13  ...  0.001 -1.874  0.673 -0.061   83  8.90  9.054  2080.0   \n",
       "\n",
       "              25  26  \n",
       "0  1655496000000   5  \n",
       "1  1655496000000   5  \n",
       "2  1655496000000   5  \n",
       "3  1655496000000   5  \n",
       "4  1655496000000   5  \n",
       "\n",
       "[5 rows x 27 columns]"
      ]
     },
     "execution_count": 44,
     "metadata": {},
     "output_type": "execute_result"
    }
   ],
   "source": [
    "df.head()"
   ]
  }
 ],
 "metadata": {
  "kernelspec": {
   "display_name": "Python 3.8.8 64-bit (system)",
   "language": "python",
   "name": "python3"
  },
  "language_info": {
   "codemirror_mode": {
    "name": "ipython",
    "version": 3
   },
   "file_extension": ".py",
   "mimetype": "text/x-python",
   "name": "python",
   "nbconvert_exporter": "python",
   "pygments_lexer": "ipython3",
   "version": "3.8.8"
  },
  "orig_nbformat": 4,
  "vscode": {
   "interpreter": {
    "hash": "19084cb2a221719542bd94e588e69917ee95725b301fa5f2df470f319dde6836"
   }
  }
 },
 "nbformat": 4,
 "nbformat_minor": 2
}
