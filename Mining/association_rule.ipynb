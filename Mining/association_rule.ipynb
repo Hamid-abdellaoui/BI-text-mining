{
 "cells": [
  {
   "cell_type": "code",
   "execution_count": 45,
   "metadata": {},
   "outputs": [],
   "source": [
    "import numpy as np\n",
    "import matplotlib.pyplot as plt\n",
    "import pandas as pd"
   ]
  },
  {
   "cell_type": "code",
   "execution_count": 3,
   "metadata": {},
   "outputs": [],
   "source": [
    "dataset = pd.read_csv(\"./../Automating/airflow/data/Outputs/appriori.csv\")"
   ]
  },
  {
   "cell_type": "code",
   "execution_count": 70,
   "metadata": {},
   "outputs": [],
   "source": [
    "bigrams = dataset.columns.tolist()\n",
    "transactions = []\n",
    "values = dataset.values.tolist()\n",
    "for list  in values :\n",
    "\n",
    "    l = [bigrams[i].replace(\",\",\"\").replace(\"'\",\"\")[1:-1] for i in range(len(bigrams)) if list[i]==1]\n",
    "    if len(l)< 250 :\n",
    "        transactions.append(l)"
   ]
  },
  {
   "cell_type": "code",
   "execution_count": 71,
   "metadata": {},
   "outputs": [],
   "source": [
    "df_values = []\n",
    "for transaction in transactions :\n",
    "    df_values.append(transaction)\n",
    "data_frame = pd.DataFrame(df_values)"
   ]
  },
  {
   "cell_type": "code",
   "execution_count": 72,
   "metadata": {},
   "outputs": [
    {
     "data": {
      "text/plain": [
       "(112, 148)"
      ]
     },
     "execution_count": 72,
     "metadata": {},
     "output_type": "execute_result"
    }
   ],
   "source": [
    "data_frame.shape"
   ]
  },
  {
   "cell_type": "code",
   "execution_count": 74,
   "metadata": {},
   "outputs": [],
   "source": [
    "data_frame.to_csv( \".\\data_apriori.csv\",index=False, header = False )"
   ]
  }
 ],
 "metadata": {
  "kernelspec": {
   "display_name": "Python 3.9.7 ('base')",
   "language": "python",
   "name": "python3"
  },
  "language_info": {
   "codemirror_mode": {
    "name": "ipython",
    "version": 3
   },
   "file_extension": ".py",
   "mimetype": "text/x-python",
   "name": "python",
   "nbconvert_exporter": "python",
   "pygments_lexer": "ipython3",
   "version": "3.9.7"
  },
  "orig_nbformat": 4,
  "vscode": {
   "interpreter": {
    "hash": "fe697844cfe8a1028ac8cd95af0dad884ddcd4494e6159c72486af12df7aa875"
   }
  }
 },
 "nbformat": 4,
 "nbformat_minor": 2
}
